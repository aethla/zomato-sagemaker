{
 "cells": [
  {
   "attachments": {},
   "cell_type": "markdown",
   "id": "ee63f4f8",
   "metadata": {},
   "source": [
    "## 2.1 Import Python Libraries"
   ]
  },
  {
   "cell_type": "code",
   "execution_count": null,
   "id": "1b6b4621",
   "metadata": {},
   "outputs": [],
   "source": [
    "import boto3, cv2, time\n",
    "import base64\n",
    "import matplotlib.pyplot as plt\n",
    "from io import BytesIO\n",
    "\n",
    "from sagemaker.pytorch import PyTorchPredictor\n",
    "from sagemaker.deserializers import JSONDeserializer"
   ]
  },
  {
   "attachments": {},
   "cell_type": "markdown",
   "id": "158dcccc-905b-4448-8570-94015bc67d19",
   "metadata": {},
   "source": [
    "## 2.2 Check if Endpoint creation is successful and create the predictor"
   ]
  },
  {
   "cell_type": "code",
   "execution_count": null,
   "id": "74487be9-e5dd-4a4c-aed6-75a2e895aace",
   "metadata": {},
   "outputs": [],
   "source": [
    "sm_client = boto3.client(service_name=\"sagemaker\")\n",
    "\n",
    "# Restore the endpoint name stored in the 2_DeployEndpoint.ipynb notebook\n",
    "%store -r ENDPOINT_NAME\n",
    "print(f'Endpoint Name: {ENDPOINT_NAME}')\n",
    "\n",
    "endpoint_created = False\n",
    "while True:\n",
    "    response = sm_client.list_endpoints()\n",
    "    for ep in response['Endpoints']:\n",
    "        print(f\"Endpoint Status = {ep['EndpointStatus']}\")\n",
    "        if ep['EndpointName']==ENDPOINT_NAME and ep['EndpointStatus']=='InService':\n",
    "            endpoint_created = True\n",
    "            break\n",
    "    if endpoint_created:\n",
    "        break\n",
    "    time.sleep(5)"
   ]
  },
  {
   "cell_type": "code",
   "execution_count": null,
   "id": "0c86427f-5528-4bdd-b214-15a777ee56da",
   "metadata": {},
   "outputs": [],
   "source": [
    "predictor = PyTorchPredictor(endpoint_name=ENDPOINT_NAME,\n",
    "                             deserializer=JSONDeserializer())"
   ]
  },
  {
   "attachments": {},
   "cell_type": "markdown",
   "id": "83ec72a4",
   "metadata": {},
   "source": [
    "## 2.3 Run Inference and Generate output results"
   ]
  },
  {
   "cell_type": "code",
   "execution_count": null,
   "id": "e0180fcb-ea19-4fc5-80a9-fdaad7f8e8b8",
   "metadata": {},
   "outputs": [],
   "source": [
    "infer_start_time = time.time()\n",
    "\n",
    "orig_image = cv2.imread('../data/db6d38a1-4fae2f3d.jpg')\n",
    "\n",
    "payload = cv2.imencode('.jpg', orig_image)[1].tobytes()\n",
    "result = predictor.predict(payload)\n",
    "\n",
    "output_image = result[\"image\"]\n",
    "\n",
    "infer_end_time = time.time()\n",
    "\n",
    "print(f\"Inference Time = {infer_end_time - infer_start_time:0.4f} seconds\")\n",
    "\n"
   ]
  },
  {
   "cell_type": "code",
   "execution_count": null,
   "id": "d5442f6a",
   "metadata": {},
   "outputs": [],
   "source": [
    "# Convert the base64 string to bytes\n",
    "image_bytes = base64.b64decode(output_image)\n",
    "\n",
    "# Load the image from the bytes\n",
    "image = plt.imread(BytesIO(image_bytes))\n",
    "\n",
    "# Display the image\n",
    "plt.figure(figsize=(8, 8))\n",
    "plt.imshow(image)\n",
    "plt.axis('off')\n",
    "plt.show()\n"
   ]
  },
  {
   "attachments": {},
   "cell_type": "markdown",
   "id": "9f167efa-02b2-434c-ae35-8109154b6df8",
   "metadata": {},
   "source": [
    "## 2.4 Cleanup by removing Endpoint, Endpoint Config and Model"
   ]
  },
  {
   "cell_type": "code",
   "execution_count": null,
   "id": "c94b6f40-8a02-47ff-b576-806705aeb20f",
   "metadata": {},
   "outputs": [],
   "source": [
    "response = sm_client.describe_endpoint_config(EndpointConfigName=ENDPOINT_NAME)\n",
    "print(response)\n",
    "endpoint_config_name = response['EndpointConfigName']\n",
    "\n",
    "# Delete Endpoint\n",
    "sm_client.delete_endpoint(EndpointName=ENDPOINT_NAME)\n",
    "\n",
    "# Delete Endpoint Configuration\n",
    "sm_client.delete_endpoint_config(EndpointConfigName=endpoint_config_name)\n",
    "\n",
    "# Delete Model\n",
    "for prod_var in response['ProductionVariants']:\n",
    "    model_name = prod_var['ModelName']\n",
    "    sm_client.delete_model(ModelName=model_name)     "
   ]
  }
 ],
 "metadata": {
  "kernelspec": {
   "display_name": "data-pipeline",
   "language": "python",
   "name": "data-pipeline"
  },
  "language_info": {
   "codemirror_mode": {
    "name": "ipython",
    "version": 3
   },
   "file_extension": ".py",
   "mimetype": "text/x-python",
   "name": "python",
   "nbconvert_exporter": "python",
   "pygments_lexer": "ipython3",
   "version": "3.9.6"
  }
 },
 "nbformat": 4,
 "nbformat_minor": 5
}
